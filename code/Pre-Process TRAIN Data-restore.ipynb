{
 "cells": [
  {
   "cell_type": "code",
   "execution_count": 127,
   "metadata": {},
   "outputs": [],
   "source": [
    "import pandas as pd\n",
    "import numpy as np\n",
    "import os\n",
    "import sys\n",
    "from PIL import Image, ImageFilter\n",
    "from skimage.io import imread, imshow\n",
    "from skimage.transform import resize\n",
    "from skimage.color import rgb2gray\n",
    "from skimage import data, img_as_float\n",
    "from skimage import exposure\n",
    "from tqdm import tqdm\n",
    "import warnings\n",
    "import pickle\n",
    "\n",
    "warnings.filterwarnings('ignore', category=UserWarning, module='skimage')"
   ]
  },
  {
   "cell_type": "code",
   "execution_count": 128,
   "metadata": {
    "collapsed": true
   },
   "outputs": [],
   "source": [
    "#image shape to resize to\n",
    "IMG_HEIGHT = 256\n",
    "IMG_WIDTH = 256\n",
    "IMG_CHANNELS = 1\n",
    "\n",
    "#location of input data\n",
    "train_path = 'C:/CompetitionData/stage1_train/'\n",
    "train_ids = next(os.walk(train_path))[1]\n",
    "\n",
    "#location of output data\n",
    "#output_image_folder = 'C:/CompetitionData/train_images/'\n",
    "#output_image_masks = 'C:/CompetitionData/train_masks/'\n",
    "\n",
    "#output pickle locations for X_train and Y_train\n",
    "output_train_pickle = 'C:/CompetitionData/X_train.p'\n",
    "output_masks_pickle = 'C:/CompetitionData/Y_train.p'"
   ]
  },
  {
   "cell_type": "code",
   "execution_count": 129,
   "metadata": {
    "collapsed": true
   },
   "outputs": [],
   "source": [
    "def rgbToGray(img):\n",
    "    grayImg = 0.0722*img[:,:,0] + 0.7152*img[:,:,1] + 0.2126*img[:,:,2]\n",
    "    #print(grayImg.shape)   \n",
    "    return np.expand_dims(grayImg, axis=2)"
   ]
  },
  {
   "cell_type": "code",
   "execution_count": 130,
   "metadata": {},
   "outputs": [],
   "source": [
    "def paddingImg(img):\n",
    "    #Begin padding routine\n",
    "    #Begin padding routine\n",
    "    desired_size = np.zeros((IMG_HEIGHT,IMG_WIDTH,1),dtype=np.uint8)\n",
    "\n",
    "    desired_size[:img.shape[0],:img.shape[1],:1] = img\n",
    "    return desired_size"
   ]
  },
  {
   "cell_type": "code",
   "execution_count": 131,
   "metadata": {
    "collapsed": true
   },
   "outputs": [],
   "source": [
    "def resizer(img):\n",
    "    desired_size = resize(img, (IMG_HEIGHT, IMG_WIDTH, 1), mode='constant', preserve_range=True)\n",
    "    return desired_size"
   ]
  },
  {
   "cell_type": "code",
   "execution_count": 132,
   "metadata": {
    "collapsed": true
   },
   "outputs": [],
   "source": [
    "def paddingMask(mask):\n",
    "    desired_mask = np.zeros((IMG_HEIGHT, IMG_WIDTH, 1), dtype=np.bool)\n",
    "    desired_mask[:mask.shape[0],:mask.shape[1], 0] = mask\n",
    "    return desired_mask"
   ]
  },
  {
   "cell_type": "code",
   "execution_count": 133,
   "metadata": {
    "collapsed": true
   },
   "outputs": [],
   "source": [
    "def maskResizer(mask):\n",
    "    #desired_mask = np.zeros((IMG_HEIGHT, IMG_WIDTH, 1), dtype=np.bool)\n",
    "    desired_mask = resize(mask, (IMG_HEIGHT, IMG_WIDTH), mode='constant', preserve_range=True)\n",
    "    desired_mask = np.expand_dims(desired_mask, axis=2)\n",
    "    #print('desired mask: ', desired_mask.shape)\n",
    "    return desired_mask"
   ]
  },
  {
   "cell_type": "code",
   "execution_count": 134,
   "metadata": {
    "collapsed": true
   },
   "outputs": [],
   "source": [
    "def padAndResize(img):\n",
    "    # First create a shape big enough to hold the odd shaped image\n",
    "    desired_img = np.zeros((MAX_HEIGHT_TOLERANCE,MAX_WIDTH_TOLERANCe,IMG_CHANNELS),dtype=np.uint8)\n",
    "    # Put that image into the array\n",
    "    desired_img[:img.shape[0],:img.shape[1],:3] = img\n",
    "    # Now resize to minimize the stretching\n",
    "    desired_img = resize(desired_img, (IMG_HEIGHT, IMG_WIDTH), mode='constant', preserve_range=True)\n",
    "    return desired_img"
   ]
  },
  {
   "cell_type": "code",
   "execution_count": 140,
   "metadata": {
    "scrolled": true
   },
   "outputs": [
    {
     "name": "stdout",
     "output_type": "stream",
     "text": [
      "Getting and resizing train images and masks ... \n"
     ]
    },
    {
     "name": "stderr",
     "output_type": "stream",
     "text": [
      "100%|████████████████████████████████████████████████████████████████████████████████| 670/670 [02:18<00:00,  4.84it/s]\n"
     ]
    },
    {
     "name": "stdout",
     "output_type": "stream",
     "text": [
      "Done.\n"
     ]
    }
   ],
   "source": [
    "# Get and resize train images and masks\n",
    "X_train = np.zeros((len(train_ids), IMG_HEIGHT, IMG_WIDTH, IMG_CHANNELS), dtype=np.uint8)\n",
    "Y_train = np.zeros((len(train_ids), IMG_HEIGHT, IMG_WIDTH, IMG_CHANNELS), dtype=np.bool)\n",
    "\n",
    "print('Getting and resizing train images and masks ... ')\n",
    "sys.stdout.flush()\n",
    "\n",
    "for n, id_ in tqdm(enumerate(train_ids), total=len(train_ids)):\n",
    "    fn_ = ''.join([train_path,id_,'/images/',id_,'.png'])\n",
    "    \n",
    "    img = imread(fn_)[:,:,:3]\n",
    "    orig_file_height, orig_file_width = img.shape[0:2]\n",
    "    \n",
    "    #grey scale conversion\n",
    "    img = rgbToGray(img)\n",
    "    \n",
    "    #pad if necessary\n",
    "    #if (img.shape[0] <= IMG_HEIGHT) and (img.shape[1] <= IMG_WIDTH):\n",
    "    #    img = paddingImg(img)\n",
    "            \n",
    "    #resize if necessary\n",
    "    #else:\n",
    "    if (orig_file_height != IMG_HEIGHT) or (orig_file_width != IMG_WIDTH):\n",
    "        img = resizer(img)\n",
    " \n",
    "    #Convert to float before exposure shift\n",
    "    #img = np.array(img, dtype=np.float)\n",
    "    \n",
    "    #imgadapt = img_as_float(img)\n",
    "    \n",
    "    \n",
    "    #change exposure to adaptive histogram\n",
    "    #imgadapt = exposure.equalize_adapthist(img, clip_limit=0.03)\n",
    "    \n",
    "    #convert it back to uint\n",
    "    #img = np.array(imgadapt, dtype=np.uint8)\n",
    "    \n",
    "\n",
    "    X_train[n] = img\n",
    "    \n",
    "    #consolidate masks\n",
    "\n",
    "        \n",
    "    mask_X = np.zeros((IMG_HEIGHT, IMG_WIDTH, 1), dtype=np.bool)\n",
    "    for mask_file in next(os.walk(''.join([train_path,id_,'/masks/'])))[2]:\n",
    "        mask_ = imread(''.join([train_path,id_,'/masks/',mask_file]))\n",
    "        \n",
    "        #if (orig_file_height <= IMG_HEIGHT) and (orig_file_width <= IMG_WIDTH):\n",
    "            #print('padding')\n",
    "         #   mask_ = paddingMask(mask_)\n",
    "        #else:\n",
    "            #print('sizer')\n",
    "        if (orig_file_height != IMG_HEIGHT) or (orig_file_width != IMG_WIDTH):\n",
    "            \n",
    "            mask_ = maskResizer(mask_)\n",
    "        else:\n",
    "            mask_ = np.expand_dims(mask_, axis=2)\n",
    "            #print(mask_.shape)     \n",
    "        mask_X = np.maximum(mask_X, mask_)\n",
    "    \n",
    "    Y_train[n] = mask_X\n",
    "\n",
    "\n",
    "print(\"Done.\")"
   ]
  },
  {
   "cell_type": "raw",
   "metadata": {},
   "source": [
    "import matplotlib.pyplot as plt\n",
    "\n",
    "# Check if training data looks all right\n",
    "for n in range(len(X_train)):\n",
    "    #ix = random.randint(0, len(X_train))\n",
    "    f, ax = plt.subplots(1,1,figsize=(15,9))\n",
    "    ax.imshow(np.squeeze(X_test[n]),cmap=\"gray\")\n",
    "    ax.set_title('Original Image')\n",
    "\n",
    "    plt.show()"
   ]
  },
  {
   "cell_type": "code",
   "execution_count": 141,
   "metadata": {},
   "outputs": [
    {
     "name": "stdout",
     "output_type": "stream",
     "text": [
      "Pickle files generated.\n"
     ]
    }
   ],
   "source": [
    "#save the pickle files\n",
    "pickle.dump(X_train, open(output_train_pickle, \"wb\"))\n",
    "pickle.dump(Y_train, open(output_masks_pickle, \"wb\"))\n",
    "print(\"Pickle files generated.\")"
   ]
  },
  {
   "cell_type": "code",
   "execution_count": null,
   "metadata": {
    "collapsed": true
   },
   "outputs": [],
   "source": []
  },
  {
   "cell_type": "code",
   "execution_count": null,
   "metadata": {
    "collapsed": true
   },
   "outputs": [],
   "source": []
  },
  {
   "cell_type": "code",
   "execution_count": null,
   "metadata": {
    "collapsed": true
   },
   "outputs": [],
   "source": []
  }
 ],
 "metadata": {
  "kernelspec": {
   "display_name": "Python [conda env:py35]",
   "language": "python",
   "name": "conda-env-py35-py"
  },
  "language_info": {
   "codemirror_mode": {
    "name": "ipython",
    "version": 3
   },
   "file_extension": ".py",
   "mimetype": "text/x-python",
   "name": "python",
   "nbconvert_exporter": "python",
   "pygments_lexer": "ipython3",
   "version": "3.5.4"
  }
 },
 "nbformat": 4,
 "nbformat_minor": 2
}
